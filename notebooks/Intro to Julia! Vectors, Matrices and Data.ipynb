{
 "cells": [
  {
   "cell_type": "markdown",
   "metadata": {},
   "source": [
    "# An Introduction to Basic Julia Functionality "
   ]
  },
  {
   "cell_type": "markdown",
   "metadata": {},
   "source": [
    "# What is a vector?\n",
    "   **a vector is a one dimensional array.**  It is like one row or column in a spreadsheet, and can hold any kind of data\n",
    "\n",
    "How do we build one?"
   ]
  },
  {
   "cell_type": "code",
   "execution_count": 2,
   "metadata": {
    "scrolled": true
   },
   "outputs": [
    {
     "data": {
      "text/plain": [
       "1×4 Array{Int64,2}:\n",
       " 1  2  3  4"
      ]
     },
     "execution_count": 2,
     "metadata": {},
     "output_type": "execute_result"
    }
   ],
   "source": [
    "[1 2 3 4]  #use spaces to separate elements of a row vector"
   ]
  },
  {
   "cell_type": "code",
   "execution_count": 3,
   "metadata": {},
   "outputs": [
    {
     "data": {
      "text/plain": [
       "4-element Array{Int64,1}:\n",
       " 1\n",
       " 2\n",
       " 3\n",
       " 4"
      ]
     },
     "execution_count": 3,
     "metadata": {},
     "output_type": "execute_result"
    }
   ],
   "source": [
    "[1,2,3,4]  #use commas to separate elements of a column vector"
   ]
  },
  {
   "cell_type": "code",
   "execution_count": 4,
   "metadata": {
    "scrolled": true
   },
   "outputs": [
    {
     "data": {
      "text/plain": [
       "4-element Array{String,1}:\n",
       " \"dog\"  \n",
       " \"cat\"  \n",
       " \"bird\" \n",
       " \"mouse\""
      ]
     },
     "execution_count": 4,
     "metadata": {},
     "output_type": "execute_result"
    }
   ],
   "source": [
    " [\"dog\", \"cat\", \"bird\", \"mouse\"]"
   ]
  },
  {
   "cell_type": "markdown",
   "metadata": {},
   "source": [
    "To declare a vector in Julia, use the square braces [  ]\n",
    "\n",
    "**A ROW vector has items separated by spaces**\n",
    "\n",
    "**A COLUMN vector has items separated by commas **\n",
    "\n",
    "\n",
    "Lets say that you build a vector full of animals"
   ]
  },
  {
   "cell_type": "markdown",
   "metadata": {},
   "source": [
    "animalsVector =  [\"dog\", \"cat\", \"bird\", \"mouse\"]"
   ]
  },
  {
   "cell_type": "markdown",
   "metadata": {},
   "source": [
    "Notice: by giving this vector a title, we have saved it in the computer's memory\n",
    "\n",
    "If I want to take out just the bird, I have to do INDEXING.\n",
    "Each entry of the vector has a number label of its position, aka an Index."
   ]
  },
  {
   "cell_type": "code",
   "execution_count": 5,
   "metadata": {},
   "outputs": [
    {
     "data": {
      "text/plain": [
       "\"cat\""
      ]
     },
     "execution_count": 5,
     "metadata": {},
     "output_type": "execute_result"
    }
   ],
   "source": [
    "animalsVector =  [\"dog\", \"cat\", \"bird\", \"mouse\"]\n",
    "#lets find the cat!  \n",
    "#you can index into a vector with the position inside square braces\n",
    "\n",
    "#Your turn! Enter the index that will return \"cat\" as an output, then push Shift + Enter to execute this code block\n",
    "animalsVector[]"
   ]
  },
  {
   "cell_type": "markdown",
   "metadata": {},
   "source": [
    "A word of Warning! Indexing out of bounds will cause an error!"
   ]
  },
  {
   "cell_type": "code",
   "execution_count": 6,
   "metadata": {},
   "outputs": [
    {
     "ename": "BoundsError",
     "evalue": "BoundsError: attempt to access 1×4 Array{Int64,2} at index [5]",
     "output_type": "error",
     "traceback": [
      "BoundsError: attempt to access 1×4 Array{Int64,2} at index [5]",
      "",
      "Stacktrace:",
      " [1] getindex(::Array{Int64,2}, ::Int64) at ./array.jl:744",
      " [2] top-level scope at In[6]:2"
     ]
    }
   ],
   "source": [
    "vectorFourLong = [1 2 3 4]\n",
    "vectorFourLong[5]"
   ]
  },
  {
   "cell_type": "markdown",
   "metadata": {},
   "source": [
    "# What is a Matrix?\n",
    "   **a matrix is a two dimensional array.**  It is like a bunch of vectors stacked together, like a spreadsheet\n",
    "\n",
    "Matrices are built just like vectors.\n",
    "Spaces separate values in a row and semicolons separate rows"
   ]
  },
  {
   "cell_type": "code",
   "execution_count": 7,
   "metadata": {},
   "outputs": [
    {
     "data": {
      "text/plain": [
       "2×4 Array{String,2}:\n",
       " \"a\"  \"b\"  \"c\"  \"d\"\n",
       " \"e\"  \"f\"  \"g\"  \"h\""
      ]
     },
     "execution_count": 7,
     "metadata": {},
     "output_type": "execute_result"
    }
   ],
   "source": [
    "[\"a\" \"b\" \"c\" \"d\"; \"e\" \"f\" \"g\" \"h\"]"
   ]
  },
  {
   "cell_type": "markdown",
   "metadata": {},
   "source": [
    "Indexing into matrices works just like vectors, but you now need two coordinates.\n",
    "\n",
    "**Index with the format [row, column] **"
   ]
  },
  {
   "cell_type": "code",
   "execution_count": 16,
   "metadata": {},
   "outputs": [
    {
     "data": {
      "text/plain": [
       "\"g\""
      ]
     },
     "execution_count": 16,
     "metadata": {},
     "output_type": "execute_result"
    }
   ],
   "source": [
    "myMatrix = [\"a\" \"b\" \"c\" \"d\"; \"e\" \"f\" \"g\" \"h\"]\n",
    "myMatrix[2,3]"
   ]
  },
  {
   "cell_type": "markdown",
   "metadata": {},
   "source": [
    "You can also slice a matrix into rows or columns by using the : operator during indexing"
   ]
  },
  {
   "cell_type": "code",
   "execution_count": 17,
   "metadata": {},
   "outputs": [
    {
     "data": {
      "text/plain": [
       "4-element Array{String,1}:\n",
       " \"e\"\n",
       " \"f\"\n",
       " \"g\"\n",
       " \"h\""
      ]
     },
     "execution_count": 17,
     "metadata": {},
     "output_type": "execute_result"
    }
   ],
   "source": [
    "myMatrix = [\"a\" \"b\" \"c\" \"d\"; \"e\" \"f\" \"g\" \"h\"]\n",
    "myMatrix[2,:]\n",
    "#this operation will extract all of row 2"
   ]
  },
  {
   "cell_type": "code",
   "execution_count": null,
   "metadata": {},
   "outputs": [],
   "source": [
    "#Your turn! Index into myMatrix so that the output is \"b\" \"f\" (you can do this with one statment)\n",
    "myMatrix[ , ]"
   ]
  },
  {
   "cell_type": "markdown",
   "metadata": {},
   "source": [
    "# Other ways to build an array/matrix\n",
    "\n",
    "Use the **rand()** function to create a matrix of a desired size containing values within a given range"
   ]
  },
  {
   "cell_type": "code",
   "execution_count": 15,
   "metadata": {},
   "outputs": [
    {
     "data": {
      "text/plain": [
       "4×3 Array{Int64,2}:\n",
       " 6  10  0\n",
       " 8   4  5\n",
       " 3   2  3\n",
       " 1  10  7"
      ]
     },
     "execution_count": 15,
     "metadata": {},
     "output_type": "execute_result"
    }
   ],
   "source": [
    "rand(0:10, 4, 3)\n",
    "# the range is [0,10], and it has 4 rows and 3 columns"
   ]
  },
  {
   "cell_type": "markdown",
   "metadata": {},
   "source": [
    "Build now, fill later with\n",
    "\n",
    "**Array{T}(undef, dims)\n",
    "Where T is the type\n",
    "and dims is the dimensions**\n",
    "\n",
    "Note: for concrete types, julia will automatically fill in the matrix with junk values"
   ]
  },
  {
   "cell_type": "code",
   "execution_count": 18,
   "metadata": {
    "scrolled": true
   },
   "outputs": [
    {
     "data": {
      "text/plain": [
       "2×3 Array{Int64,2}:\n",
       " 368363696  368363728  158578320\n",
       " 156449200  157065840  163143984"
      ]
     },
     "execution_count": 18,
     "metadata": {},
     "output_type": "execute_result"
    }
   ],
   "source": [
    "Array{Int64}(undef, 2, 3)"
   ]
  },
  {
   "cell_type": "code",
   "execution_count": 6,
   "metadata": {
    "scrolled": true
   },
   "outputs": [
    {
     "data": {
      "text/plain": [
       "2×3 Array{Int64,2}:\n",
       " 344327936         18  344327952\n",
       "         6  140148768         45"
      ]
     },
     "execution_count": 6,
     "metadata": {},
     "output_type": "execute_result"
    }
   ],
   "source": [
    "#You can put the correct values in by indexing\n",
    "junkArray = Array{Int64}(undef, 2, 3)\n",
    "\n",
    "#Your Turn!  Make this 3x2 matrix contain the first 6 even numbers, in order.  2 is done for you\n",
    "junkArray[1, 1] = 2;\n",
    "junkArray[ , ] = ;\n",
    "junkArray[ , ] = ;\n",
    "junkArray[ , ] = ;\n",
    "junkArray[ , ] = ;\n",
    "junkArray[ , ] = ;\n",
    "junkArray #this statement will show you the matrix"
   ]
  },
  {
   "cell_type": "markdown",
   "metadata": {},
   "source": [
    "There are some built-ins for quick matrix building:\n",
    "\n",
    "**zeros(T, dims)**\n",
    "\n",
    "**ones(T, dims)**\n",
    "\n",
    "Both of these functions build a matrix full of either ones or zeros, with specified dimensions and Type (T)"
   ]
  },
  {
   "cell_type": "markdown",
   "metadata": {},
   "source": [
    "# When is this useful?\n",
    "# I WANT THE STUDENTS TO HAVE TO FILL THIS OUT!"
   ]
  },
  {
   "cell_type": "markdown",
   "metadata": {
    "scrolled": true
   },
   "source": [
    "Data in Julia is stored in Matrices, so it is helpful to know how to manipulate that data.\n",
    "\n",
    "The method shown below for getting data from a public link on the internet will work for any file with the extension .csv"
   ]
  },
  {
   "cell_type": "code",
   "execution_count": 18,
   "metadata": {},
   "outputs": [
    {
     "data": {
      "text/html": [
       "<table class=\"data-frame\"><thead><tr><th></th><th>People</th><th>personA</th><th>personB</th><th>personC</th><th>personD</th></tr><tr><th></th><th>String</th><th>Int64</th><th>Int64</th><th>Int64</th><th>Int64</th></tr></thead><tbody><p>8 rows × 5 columns</p><tr><th>1</th><td>Banana</td><td>2</td><td>4</td><td>6</td><td>2</td></tr><tr><th>2</th><td>Pear</td><td>4</td><td>6</td><td>7</td><td>5</td></tr><tr><th>3</th><td>Lemon</td><td>6</td><td>2</td><td>3</td><td>7</td></tr><tr><th>4</th><td>Pineapple</td><td>7</td><td>9</td><td>7</td><td>3</td></tr><tr><th>5</th><td>Orange</td><td>12</td><td>1</td><td>9</td><td>2</td></tr><tr><th>6</th><td>Strawberry</td><td>4</td><td>1</td><td>14</td><td>0</td></tr><tr><th>7</th><td>Apple</td><td>9</td><td>0</td><td>0</td><td>1</td></tr><tr><th>8</th><td>Mango</td><td>0</td><td>3</td><td>2</td><td>7</td></tr></tbody></table>"
      ],
      "text/latex": [
       "\\begin{tabular}{r|ccccc}\n",
       "\t& People & personA & personB & personC & personD\\\\\n",
       "\t\\hline\n",
       "\t& String & Int64 & Int64 & Int64 & Int64\\\\\n",
       "\t\\hline\n",
       "\t1 & Banana & 2 & 4 & 6 & 2 \\\\\n",
       "\t2 & Pear & 4 & 6 & 7 & 5 \\\\\n",
       "\t3 & Lemon & 6 & 2 & 3 & 7 \\\\\n",
       "\t4 & Pineapple & 7 & 9 & 7 & 3 \\\\\n",
       "\t5 & Orange & 12 & 1 & 9 & 2 \\\\\n",
       "\t6 & Strawberry & 4 & 1 & 14 & 0 \\\\\n",
       "\t7 & Apple & 9 & 0 & 0 & 1 \\\\\n",
       "\t8 & Mango & 0 & 3 & 2 & 7 \\\\\n",
       "\\end{tabular}\n"
      ],
      "text/plain": [
       "8×5 DataFrames.DataFrame\n",
       "│ Row │ People     │ personA │ personB │ personC │ personD │\n",
       "│     │ \u001b[90mString\u001b[39m     │ \u001b[90mInt64\u001b[39m   │ \u001b[90mInt64\u001b[39m   │ \u001b[90mInt64\u001b[39m   │ \u001b[90mInt64\u001b[39m   │\n",
       "├─────┼────────────┼─────────┼─────────┼─────────┼─────────┤\n",
       "│ 1   │ Banana     │ 2       │ 4       │ 6       │ 2       │\n",
       "│ 2   │ Pear       │ 4       │ 6       │ 7       │ 5       │\n",
       "│ 3   │ Lemon      │ 6       │ 2       │ 3       │ 7       │\n",
       "│ 4   │ Pineapple  │ 7       │ 9       │ 7       │ 3       │\n",
       "│ 5   │ Orange     │ 12      │ 1       │ 9       │ 2       │\n",
       "│ 6   │ Strawberry │ 4       │ 1       │ 14      │ 0       │\n",
       "│ 7   │ Apple      │ 9       │ 0       │ 0       │ 1       │\n",
       "│ 8   │ Mango      │ 0       │ 3       │ 2       │ 7       │"
      ]
     },
     "execution_count": 18,
     "metadata": {},
     "output_type": "execute_result"
    }
   ],
   "source": [
    "#first, we are going to download some data from the internet, in CSV(or comma separated values) format\n",
    "P = download(\"https://raw.githubusercontent.com/kjbiener/introToJulia/master/juilaIntroData.csv\",\"fruitConsumption.csv\")\n",
    "#we have to tell Julia to use the CSV Package before we can read the data\n",
    "using CSV\n",
    "data = CSV.read(\"fruitConsumption.csv\")"
   ]
  },
  {
   "cell_type": "markdown",
   "metadata": {},
   "source": [
    "Great! We now have the data loaded into a structure called a **DataFrame** in Julia.  DataFrames are used in the inital read because they can hold mulitple types of data at once, like strings and Int64, in this case.  Regular Matrices can only hold one type of data.\n",
    "\n",
    "The current DataFrame format cannot interact with Julia's statistics built-ins.  To convert it to a matrix, simply use the **Matrix()** function.  \n",
    "\n",
    "Careful!  We cannot include the strings into the matrix, because they are of a different type.  Be sure to exclude these rows when you index!"
   ]
  },
  {
   "cell_type": "code",
   "execution_count": 18,
   "metadata": {},
   "outputs": [
    {
     "data": {
      "text/plain": [
       "8×4 Array{Int64,2}:\n",
       "  2  4   6  2\n",
       "  4  6   7  5\n",
       "  6  2   3  7\n",
       "  7  9   7  3\n",
       " 12  1   9  2\n",
       "  4  1  14  0\n",
       "  9  0   0  1\n",
       "  0  3   2  7"
      ]
     },
     "execution_count": 18,
     "metadata": {},
     "output_type": "execute_result"
    }
   ],
   "source": [
    "#Your Turn!  Cut out the parts of the dataFrame that contain numbers. \n",
    "dataNumeric = Matrix(data[___,____])\n",
    "#Hint:  Use range notaion to index\n",
    "#data[startrow:endrow, startcolumn:endcolumn]\n",
    "\n",
    "# the output should be a 8x4 Array{Int64, 2}"
   ]
  },
  {
   "cell_type": "markdown",
   "metadata": {},
   "source": [
    "Now that we have the raw numeric data, lets find out some things about it.  "
   ]
  },
  {
   "cell_type": "code",
   "execution_count": 24,
   "metadata": {
    "scrolled": false
   },
   "outputs": [
    {
     "data": {
      "text/plain": [
       "1×4 Array{Int64,2}:\n",
       " 44  26  48  27"
      ]
     },
     "execution_count": 24,
     "metadata": {},
     "output_type": "execute_result"
    }
   ],
   "source": [
    "dataNumeric = Matrix(data[:, 2:end])\n",
    "#How much total fruit is consumed by each person?\n",
    "#the sum() function will take all of the values in the matrix, and sum it up for you, \n",
    "#just specify the dimension you are summing over\n",
    "sum(dataNumeric, dims=1)\n",
    "#What happens if we call sum without specifying the dimensions?\n",
    "#What does dims=1 mean?  dims=2?  Is this data useful?"
   ]
  },
  {
   "cell_type": "markdown",
   "metadata": {},
   "source": [
    "We can also run other functions like **mean(), maximum(), minimum(), var()** and **std()**\n",
    "Again, if we specify a dimension as a second parameter in the function, it will evaluate only along that dimension."
   ]
  },
  {
   "cell_type": "code",
   "execution_count": 32,
   "metadata": {},
   "outputs": [
    {
     "data": {
      "text/plain": [
       "3.6009351384005437"
      ]
     },
     "execution_count": 32,
     "metadata": {},
     "output_type": "execute_result"
    }
   ],
   "source": [
    "# we have to use the statistics package\n",
    "using Statistics\n",
    "#example of standard deviation calculation\n",
    "std(dataNumeric)"
   ]
  },
  {
   "cell_type": "markdown",
   "metadata": {},
   "source": [
    "# Iterators and Conditional Operations\n",
    "# aka . . . For and If statements\n",
    "\n",
    "FOR loops:  A chunk of code that can be repeated a certain number of times\n",
    "\n",
    "The iterator variable, i, will successively take the values of everything in the specified range(1 through 4) as it repeats the loop."
   ]
  },
  {
   "cell_type": "code",
   "execution_count": 38,
   "metadata": {
    "scrolled": false
   },
   "outputs": [
    {
     "name": "stdout",
     "output_type": "stream",
     "text": [
      "I ran this loop 1 times\n",
      "I ran this loop 2 times\n",
      "I ran this loop 3 times\n",
      "I ran this loop 4 times\n"
     ]
    }
   ],
   "source": [
    "#here is an example of a For Loop\n",
    "for i = 1:4\n",
    "    println(\"I ran this loop \", i, \" times\")\n",
    "end"
   ]
  },
  {
   "cell_type": "code",
   "execution_count": 25,
   "metadata": {},
   "outputs": [
    {
     "name": "stdout",
     "output_type": "stream",
     "text": [
      "smaller than 10\n"
     ]
    }
   ],
   "source": [
    "#here is an example of an If statement\n",
    "x = 4\n",
    "if x < 10\n",
    "    println(\"smaller than 10\")\n",
    "end"
   ]
  },
  {
   "cell_type": "markdown",
   "metadata": {},
   "source": [
    "Notice that both of these chunks of code have an **end** statement.  This syntax is crucial, otherwise the code will not work.\n",
    "\n",
    "Loops and if statements allow the computer to make decisions about a bunch of numbers over and over again.  Instead of writing the same code enough times to check every value in an array, one For loop can do it for us. \n",
    "\n",
    "Let's say that we want to figure out which person ate the most strawberries this week.  \n",
    "\n",
    "How can we use indexing, and a for loop, to figure out who it was?"
   ]
  },
  {
   "cell_type": "code",
   "execution_count": 26,
   "metadata": {},
   "outputs": [
    {
     "name": "stdout",
     "output_type": "stream",
     "text": [
      "[4, 1, 14, 0]\n",
      "personC ate 14 strawberries, which was the most in the study.\n"
     ]
    }
   ],
   "source": [
    "#first, we need to get the strawberry row out\n",
    "\n",
    "#Your Turn!! Which row is the strawberry row?\n",
    "sRow = dataNumeric[____,:]\n",
    "println(sRow)  #this will help you double check that you got the right row\n",
    "\n",
    "#now lets initialize our maximum strawberry number to be zero, and the index to be zero as well\n",
    "#This way, once we find someone who ate more than zero strawberries, we will know that the maximum can't be zero anymore\n",
    "maxStrawberry = 0\n",
    "indexMost = 0\n",
    "\n",
    "# now for every value in the strawberry row, we need to examine that value\n",
    "\n",
    "for i= ____:____ #Enter the range of possible indexes in the strawberry Row\n",
    "    \n",
    "    #is it the biggest?\n",
    "    if sRow[i] > maxStrawberry\n",
    "        #we found a bigger value!  Let's update the maximum that we have, and remember the location it was in\n",
    "        maxStrawberry = _____ #put in the new biggest value\n",
    "        indexMost = _____  #put in the location(index) where we found that value\n",
    "    end\n",
    "    #if it wasn't the biggest, we just move on to the next index in the strawberry Row\n",
    "end\n",
    "\n",
    "#Now that we have found the maximum by checking every value, lets print it out, and also figure out which person it was\n",
    "\n",
    "#the names of the test subjects were:\n",
    "testPeople = [\"personA\", \"personB\", \"personC\", \"personD\"]\n",
    "biggestStrawberryFan = testPeople[indexMost]\n",
    "#since the order of this vector of names is the same, we can use the index to find out who ate the most\n",
    "\n",
    "#lets print out our information!\n",
    "println(biggestStrawberryFan, \" ate \", maxStrawberry, \" strawberries, which was the most in the study.\")\n",
    "    "
   ]
  }
 ],
 "metadata": {
  "kernelspec": {
   "display_name": "Julia 1.4.2",
   "language": "julia",
   "name": "julia-1.4"
  },
  "language_info": {
   "file_extension": ".jl",
   "mimetype": "application/julia",
   "name": "julia",
   "version": "1.4.2"
  }
 },
 "nbformat": 4,
 "nbformat_minor": 4
}
